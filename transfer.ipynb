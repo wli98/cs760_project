{
 "cells": [
  {
   "cell_type": "code",
   "execution_count": 96,
   "metadata": {},
   "outputs": [],
   "source": [
    "import tensorflow\n",
    "import numpy as np\n",
    "import os\n",
    "import PIL\n",
    "import PIL.Image\n",
    "import tensorflow as tf\n",
    "import tensorflow_datasets as tfds\n",
    "from keras.preprocessing.image import ImageDataGenerator\n",
    "import matplotlib.pyplot as plt\n",
    "from tensorflow.keras import layers\n",
    "import keras\n",
    "from tensorflow import image\n",
    "import tensorflow_addons as tfa\n",
    "from collections import Counter\n"
   ]
  },
  {
   "cell_type": "code",
   "execution_count": 9,
   "metadata": {},
   "outputs": [],
   "source": [
    "batch_size = 32\n",
    "img_height = 128\n",
    "img_width = 128\n",
    "IMG_SIZE = (img_height,img_width)"
   ]
  },
  {
   "cell_type": "code",
   "execution_count": 142,
   "metadata": {},
   "outputs": [
    {
     "name": "stdout",
     "output_type": "stream",
     "text": [
      "Found 1481 files belonging to 3 classes.\n",
      "Using 1185 files for training.\n",
      "Found 402 files belonging to 3 classes.\n"
     ]
    }
   ],
   "source": [
    "train_ds = tf.keras.preprocessing.image_dataset_from_directory(\n",
    "  \"train/\",\n",
    "  validation_split=0.2,\n",
    "  subset=\"training\",\n",
    "  seed=123,\n",
    "  image_size=(img_height, img_width),\n",
    "  batch_size=batch_size)\n",
    "\n",
    "val_ds = tf.keras.preprocessing.image_dataset_from_directory(\n",
    "  \"real_imgs/\",\n",
    "  #validation_split=0.2,\n",
    "  #subset=\"validation\",\n",
    "  seed=123,\n",
    "  image_size=(img_height, img_width),\n",
    "  batch_size=batch_size)\n",
    "\n",
    "AUTOTUNE = tf.data.experimental.AUTOTUNE\n"
   ]
  },
  {
   "cell_type": "code",
   "execution_count": 143,
   "metadata": {},
   "outputs": [],
   "source": [
    "#augment training data\n",
    "def random_shift_img(x):\n",
    "    if tf.random.uniform([])< 0.6:\n",
    "        shift = tf.random.uniform([],minval=-250,maxval = 255)\n",
    "        return x+shift\n",
    "    else:\n",
    "        return x\n",
    "    \n",
    "\n",
    "class RandomShift(layers.Layer):\n",
    "    def __init__(self,dynamic = True, **kwargs):\n",
    "        super().__init__(**kwargs)\n",
    "\n",
    "    def call(self, x):\n",
    "        return random_shift_img(x)\n",
    "\n",
    "\n",
    "class Stretch(layers.Layer):\n",
    "    def __init__(self,dynamic = True, **kwargs):\n",
    "        super().__init__(**kwargs)\n",
    "\n",
    "    def call(self, x):\n",
    "        return tfa.image.transform(x, [0.5, 0, -250, 0.0, 1, 0.0, 0, 0.0])\n",
    "\n",
    "    \n",
    "    \n",
    "data_augmentation = keras.Sequential(\n",
    "  [\n",
    "    layers.experimental.preprocessing.RandomFlip(\"horizontal\", \n",
    "                                                 input_shape=(img_height, \n",
    "                                                              img_width,\n",
    "                                                              3)),\n",
    "    layers.experimental.preprocessing.RandomRotation(0.1),\n",
    "    layers.experimental.preprocessing.RandomZoom((-0.3,0)),\n",
    "    #to_grey\n",
    "    #RandomShift(),\n",
    "  ]\n",
    ")\n",
    "    \n",
    "\n",
    "def prepare(ds):\n",
    "    ds = ds.map(lambda x, y: (data_augmentation(x), y), \n",
    "                num_parallel_calls=AUTOTUNE)\n",
    "    return ds.prefetch(buffer_size=AUTOTUNE)\n",
    "\n",
    "train_ds = prepare(train_ds.unbatch().batch(1)).unbatch().batch(batch_size)\n"
   ]
  },
  {
   "cell_type": "code",
   "execution_count": 144,
   "metadata": {},
   "outputs": [],
   "source": [
    "\n",
    "train_ds = train_ds.cache().prefetch(buffer_size=AUTOTUNE)\n",
    "val_ds = val_ds.cache().prefetch(buffer_size=AUTOTUNE)"
   ]
  },
  {
   "cell_type": "code",
   "execution_count": 145,
   "metadata": {},
   "outputs": [],
   "source": [
    "IMG_SHAPE = IMG_SIZE + (3,)\n",
    "base_model = tf.keras.applications.MobileNetV2(input_shape=IMG_SHAPE,\n",
    "                                               include_top=False,\n",
    "                                               weights='imagenet')"
   ]
  },
  {
   "cell_type": "code",
   "execution_count": 146,
   "metadata": {},
   "outputs": [],
   "source": [
    "base_model.trainable = False\n"
   ]
  },
  {
   "cell_type": "code",
   "execution_count": 147,
   "metadata": {},
   "outputs": [],
   "source": [
    "preprocess_input = tf.keras.applications.mobilenet_v2.preprocess_input\n",
    "\n",
    "global_average_layer = tf.keras.layers.GlobalAveragePooling2D()\n",
    "prediction_layer = tf.keras.layers.Dense(3)\n",
    "\n",
    "inputs = tf.keras.Input(shape=(128, 128, 3))\n",
    "x = data_augmentation(inputs)\n",
    "x = preprocess_input(x)\n",
    "x = base_model(x, training=False)\n",
    "x = global_average_layer(x)\n",
    "x = tf.keras.layers.Dropout(0.2)(x)\n",
    "outputs = prediction_layer(x)\n",
    "model = tf.keras.Model(inputs, outputs)"
   ]
  },
  {
   "cell_type": "code",
   "execution_count": 148,
   "metadata": {},
   "outputs": [],
   "source": [
    "base_learning_rate = 0.0001\n",
    "model.compile(optimizer=tf.keras.optimizers.Adam(lr=base_learning_rate),\n",
    "              loss=tf.losses.SparseCategoricalCrossentropy(from_logits=True),\n",
    "              metrics=['accuracy'])"
   ]
  },
  {
   "cell_type": "code",
   "execution_count": 149,
   "metadata": {},
   "outputs": [
    {
     "name": "stdout",
     "output_type": "stream",
     "text": [
      "Epoch 1/15\n",
      "38/38 [==============================] - 32s 843ms/step - loss: 1.5250 - accuracy: 0.3595 - val_loss: 1.2526 - val_accuracy: 0.3632\n",
      "Epoch 2/15\n",
      "38/38 [==============================] - 21s 542ms/step - loss: 1.0788 - accuracy: 0.4776 - val_loss: 1.0742 - val_accuracy: 0.5100\n",
      "Epoch 3/15\n",
      "38/38 [==============================] - 22s 580ms/step - loss: 0.9175 - accuracy: 0.5907 - val_loss: 0.9574 - val_accuracy: 0.5821\n",
      "Epoch 4/15\n",
      "38/38 [==============================] - 23s 610ms/step - loss: 0.7867 - accuracy: 0.6422 - val_loss: 0.8767 - val_accuracy: 0.6095\n",
      "Epoch 5/15\n",
      "38/38 [==============================] - 21s 562ms/step - loss: 0.7072 - accuracy: 0.6852 - val_loss: 0.8188 - val_accuracy: 0.6443\n",
      "Epoch 6/15\n",
      "38/38 [==============================] - 22s 570ms/step - loss: 0.6200 - accuracy: 0.7426 - val_loss: 0.7799 - val_accuracy: 0.6791\n",
      "Epoch 7/15\n",
      "38/38 [==============================] - 20s 518ms/step - loss: 0.5561 - accuracy: 0.7789 - val_loss: 0.7402 - val_accuracy: 0.6965\n",
      "Epoch 8/15\n",
      "38/38 [==============================] - 19s 490ms/step - loss: 0.5066 - accuracy: 0.7899 - val_loss: 0.7174 - val_accuracy: 0.6965\n",
      "Epoch 9/15\n",
      "38/38 [==============================] - 19s 505ms/step - loss: 0.4484 - accuracy: 0.8287 - val_loss: 0.6900 - val_accuracy: 0.7065\n",
      "Epoch 10/15\n",
      "38/38 [==============================] - 19s 501ms/step - loss: 0.4352 - accuracy: 0.8295 - val_loss: 0.6722 - val_accuracy: 0.7164\n",
      "Epoch 11/15\n",
      "38/38 [==============================] - 19s 493ms/step - loss: 0.4144 - accuracy: 0.8456 - val_loss: 0.6549 - val_accuracy: 0.7189\n",
      "Epoch 12/15\n",
      "38/38 [==============================] - 18s 463ms/step - loss: 0.3848 - accuracy: 0.8557 - val_loss: 0.6355 - val_accuracy: 0.7289\n",
      "Epoch 13/15\n",
      "38/38 [==============================] - 19s 502ms/step - loss: 0.3795 - accuracy: 0.8709 - val_loss: 0.6405 - val_accuracy: 0.7239\n",
      "Epoch 14/15\n",
      "38/38 [==============================] - 18s 469ms/step - loss: 0.3641 - accuracy: 0.8608 - val_loss: 0.6209 - val_accuracy: 0.7388\n",
      "Epoch 15/15\n",
      "38/38 [==============================] - 18s 480ms/step - loss: 0.3394 - accuracy: 0.8878 - val_loss: 0.6066 - val_accuracy: 0.7363\n"
     ]
    }
   ],
   "source": [
    "initial_epochs = 15\n",
    "\n",
    "history = model.fit(train_ds,\n",
    "                    epochs=initial_epochs,\n",
    "                    validation_data=val_ds)\n",
    "\n",
    "#loss0, accuracy0 = model.evaluate(val_ds)"
   ]
  },
  {
   "cell_type": "code",
   "execution_count": 151,
   "metadata": {},
   "outputs": [
    {
     "data": {
      "image/png": "[encoded data removed]",
      "text/plain": [
       "<Figure size 576x576 with 2 Axes>"
      ]
     },
     "metadata": {
      "needs_background": "light"
     },
     "output_type": "display_data"
    }
   ],
   "source": [
    "epochs = 15\n",
    "acc = history.history['accuracy']\n",
    "val_acc = history.history['val_accuracy']\n",
    "\n",
    "loss = history.history['loss']\n",
    "val_loss = history.history['val_loss']\n",
    "\n",
    "epochs_range = range(epochs)\n",
    "\n",
    "plt.figure(figsize=(8, 8))\n",
    "plt.subplot(1, 2, 1)\n",
    "plt.plot(epochs_range, acc, label='Training Accuracy')\n",
    "plt.plot(epochs_range, val_acc, label='Testing Accuracy')\n",
    "plt.legend(loc='lower right')\n",
    "plt.title('Training and Testing Accuracy')\n",
    "\n",
    "plt.subplot(1, 2, 2)\n",
    "plt.plot(epochs_range, loss, label='Training Loss')\n",
    "plt.plot(epochs_range, val_loss, label='Testing Loss')\n",
    "plt.legend(loc='upper right')\n",
    "plt.title('Training and Testing Loss')\n",
    "plt.show()"
   ]
  },
  {
   "cell_type": "code",
   "execution_count": 152,
   "metadata": {},
   "outputs": [
    {
     "name": "stdout",
     "output_type": "stream",
     "text": [
      "Model: \"functional_25\"\n",
      "_________________________________________________________________\n",
      "Layer (type)                 Output Shape              Param #   \n",
      "=================================================================\n",
      "input_25 (InputLayer)        [(None, 128, 128, 3)]     0         \n",
      "_________________________________________________________________\n",
      "sequential_12 (Sequential)   (None, 128, 128, 3)       0         \n",
      "_________________________________________________________________\n",
      "tf_op_layer_RealDiv_12 (Tens [(None, 128, 128, 3)]     0         \n",
      "_________________________________________________________________\n",
      "tf_op_layer_Sub_12 (TensorFl [(None, 128, 128, 3)]     0         \n",
      "_________________________________________________________________\n",
      "mobilenetv2_1.00_128 (Functi (None, 4, 4, 1280)        2257984   \n",
      "_________________________________________________________________\n",
      "global_average_pooling2d_13  (None, 1280)              0         \n",
      "_________________________________________________________________\n",
      "dropout_12 (Dropout)         (None, 1280)              0         \n",
      "_________________________________________________________________\n",
      "dense_13 (Dense)             (None, 3)                 3843      \n",
      "=================================================================\n",
      "Total params: 2,261,827\n",
      "Trainable params: 3,843\n",
      "Non-trainable params: 2,257,984\n",
      "_________________________________________________________________\n"
     ]
    }
   ],
   "source": [
    "model.summary()"
   ]
  },
  {
   "cell_type": "code",
   "execution_count": 121,
   "metadata": {},
   "outputs": [
    {
     "name": "stdout",
     "output_type": "stream",
     "text": [
      "Found 402 files belonging to 3 classes.\n",
      "402/402 [==============================] - 13s 32ms/step - loss: 0.6474 - accuracy: 0.7388\n"
     ]
    }
   ],
   "source": [
    "#test NN on real images\n",
    "real_img_ds = tf.keras.preprocessing.image_dataset_from_directory(\n",
    "  \"real_imgs/\",\n",
    "  batch_size = 1,\n",
    "  seed=123,\n",
    "  image_size=(img_height, img_width))\n",
    "\n",
    "results = model.evaluate(real_img_ds)\n"
   ]
  },
  {
   "cell_type": "code",
   "execution_count": 66,
   "metadata": {},
   "outputs": [
    {
     "data": {
      "text/plain": [
       "array([[ 1.0789886 ,  1.5268726 , -0.40687537]], dtype=float32)"
      ]
     },
     "execution_count": 66,
     "metadata": {},
     "output_type": "execute_result"
    }
   ],
   "source": [
    "img = keras.preprocessing.image.load_img(\n",
    "    'real_imgs/imfd/badnose88.jpg', target_size=(img_height, img_width)\n",
    ")\n",
    "img_array = keras.preprocessing.image.img_to_array(img)\n",
    "img_array = tf.expand_dims(img_array, 0) # Create a batch\n",
    "\n",
    "model.predict(img_array)"
   ]
  },
  {
   "cell_type": "code",
   "execution_count": 94,
   "metadata": {},
   "outputs": [],
   "source": [
    "directory1 = 'real_imgs/cmfd'\n",
    "results1 = []\n",
    "for filename in os.listdir(directory1):\n",
    "    if filename.endswith(\".jpg\") :\n",
    "        img = keras.preprocessing.image.load_img(os.path.join(directory1,filename), target_size=(img_height, img_width))\n",
    "        img_array = keras.preprocessing.image.img_to_array(img)\n",
    "        img_array = tf.expand_dims(img_array, 0) # Create a batch\n",
    "        result = model.predict(img_array)\n",
    "        idx  = result[0].argmax()\n",
    "        results1.append(idx)\n",
    "    else:\n",
    "        continue\n",
    "        \n",
    "directory2 = 'real_imgs/imfd'\n",
    "results2 = []\n",
    "for filename in os.listdir(directory2):\n",
    "    if filename.endswith(\".jpg\") :\n",
    "        img = keras.preprocessing.image.load_img(os.path.join(directory2,filename), target_size=(img_height, img_width))\n",
    "        img_array = keras.preprocessing.image.img_to_array(img)\n",
    "        img_array = tf.expand_dims(img_array, 0) # Create a batch\n",
    "        result = model.predict(img_array)\n",
    "        idx  = result[0].argmax()\n",
    "        results2.append(idx)\n",
    "    else:\n",
    "        continue\n",
    "\n",
    "directory3 = 'real_imgs/nomask'\n",
    "results3 = []\n",
    "for filename in os.listdir(directory3):\n",
    "    if filename.endswith(\".jpg\") :\n",
    "        img = keras.preprocessing.image.load_img(os.path.join(directory3,filename), target_size=(img_height, img_width))\n",
    "        img_array = keras.preprocessing.image.img_to_array(img)\n",
    "        img_array = tf.expand_dims(img_array, 0) # Create a batch\n",
    "        result = model.predict(img_array)\n",
    "        idx  = result[0].argmax()\n",
    "        results3.append(idx)\n",
    "    else:\n",
    "        continue"
   ]
  },
  {
   "cell_type": "code",
   "execution_count": 97,
   "metadata": {},
   "outputs": [
    {
     "data": {
      "text/plain": [
       "Text(0, 0.5, 'Accuracy')"
      ]
     },
     "execution_count": 97,
     "metadata": {},
     "output_type": "execute_result"
    },
    {
     "data": {
      "image/png": "[encoded data removed]",
      "text/plain": [
       "<Figure size 432x288 with 1 Axes>"
      ]
     },
     "metadata": {
      "needs_background": "light"
     },
     "output_type": "display_data"
    }
   ],
   "source": [
    "correct_classification_percent = [Counter(results1)[0]/len(results1),Counter(results2)[1]/len(results2),Counter(results3)[2]/len(results3)]\n",
    "plt.bar(['correct','incorrect','no mask'],correct_classification_percent)\n",
    "plt.title(\"Classification Accuracy by True Label\")\n",
    "plt.xlabel('True Label')\n",
    "plt.ylabel('Accuracy')"
   ]
  },
  {
   "cell_type": "code",
   "execution_count": 98,
   "metadata": {},
   "outputs": [
    {
     "data": {
      "text/plain": [
       "<BarContainer object of 3 artists>"
      ]
     },
     "execution_count": 98,
     "metadata": {},
     "output_type": "execute_result"
    },
    {
     "data": {
      "image/png": "[encoded data removed]",
      "text/plain": [
       "<Figure size 432x288 with 1 Axes>"
      ]
     },
     "metadata": {
      "needs_background": "light"
     },
     "output_type": "display_data"
    }
   ],
   "source": [
    "imfd_predictions = [Counter(results2)[0],Counter(results2)[1],Counter(results2)[2]]\n",
    "plt.bar(['correct','incorrect','no mask'],imfd_predictions)"
   ]
  },
  {
   "cell_type": "code",
   "execution_count": null,
   "metadata": {},
   "outputs": [],
   "source": []
  }
 ],
 "metadata": {
  "kernelspec": {
   "display_name": "Python 3",
   "language": "python",
   "name": "python3"
  },
  "language_info": {
   "codemirror_mode": {
    "name": "ipython",
    "version": 3
   },
   "file_extension": ".py",
   "mimetype": "text/x-python",
   "name": "python",
   "nbconvert_exporter": "python",
   "pygments_lexer": "ipython3",
   "version": "3.6.3"
  }
 },
 "nbformat": 4,
 "nbformat_minor": 2
}
